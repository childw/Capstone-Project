{
 "cells": [
  {
   "cell_type": "markdown",
   "metadata": {},
   "source": [
    "### OPPORTUNITY (PROBLEM)"
   ]
  },
  {
   "cell_type": "markdown",
   "metadata": {},
   "source": [
    "The owners of a Michelin rated restaurant – Ears Down Ox (fictitious) –  in Washington, DC are looking to open another restaurant in one of three neighborhoods in close proximity to their current facility:  Columbia Heights, Logan Circle, and the U Street Corridor.   \n",
    "The fine-dining restaurant will only be open from 5PM-11PM Tuesday through Sunday and the menu will consist primarily of American Fare.  Restaurant revenue per seat will average 50 dollars placing the restaurant in the 3 dollar-sign ($$$) category on yelp.  \n",
    "\n",
    "The owners of Ears Down Ox have a preference for Columbia Heights, Logan Circle, and the U Street Corridor in order to optimize for staffing and delivery logistics.  Sharing wait and kitchen staff across Ears Down Ox and the new restaurant is a top priority.  They would also like to use the same food supplier and work with similar delivery times at both facilities.  \n",
    "\n",
    "All three areas in Washington, DC have a robust and vibrant restaurant and nightlife scene and the owners are aware that they have to balance their efficiency needs with close proximity to the competition.  They have asked us to recommend where they should open their next restaurant: Columbia Heights, Logan Circle, or the U Street Corridor. \n",
    "\n",
    "This analysis could easily be extended to other neighborhoods in Washington, DC or could be replicated for other new restaurants with different menus and strategies.  \n"
   ]
  },
  {
   "cell_type": "markdown",
   "metadata": {},
   "source": [
    "### DATA"
   ]
  },
  {
   "cell_type": "markdown",
   "metadata": {},
   "source": [
    "\n",
    "There will be two primary data sources for this analysis:  FourSquare Data and Yelp.  \n",
    "\n",
    "FourSquare will provide us with the landscape of venues (e.g. Restaurant, Park, etc.) in each neighborhood, allowing us to understand the look/feel of the neighborhood and how appropriate each neighborhood might be for the owner’s new restaurant.  The FourSquare data will be accessed through API. The four square data will allow us to compare the number and types of venues in each neighbood. \n",
    "\n",
    "The yelp dataset consists of the top 500 ranked restaurants in Washington, DC as of October 8, 2018.  This data was scraped from the web and resides in a csv file.  The dataset includes restaurant name, yelp rank (e.g. 1-100), yelp star ranking (e.g. 2 to 4 stars), number of yelp reviews, and a description of the fare.  The data includes neighborhoods beyond our 3 targets, in the event that we want to provide additional insight to our client.  \n",
    "\n",
    "We will look at the number and type of restaurants in each neighborhood using the yelp data.  We can segment by how expensive each restaurant is, the number of reviews (proxy for how busy the neighborhood is) in each neighbhoohood, and we can extract the type of food from the description (e.g. Italian, Thai). \n",
    "\n",
    "We can utilize machine learning algorithms (e.g. decision tree) to understand  impact on overall yelp rank or the star ranking.  "
   ]
  },
  {
   "cell_type": "markdown",
   "metadata": {},
   "source": [
    "### METHODOLOGY"
   ]
  },
  {
   "cell_type": "markdown",
   "metadata": {},
   "source": [
    "FOUR SQUARE DATA"
   ]
  },
  {
   "cell_type": "markdown",
   "metadata": {},
   "source": [
    "We found the latitude and longitude of each of our 3 target neighbhoords from google and  mapped our target neighborhoods using matplotlib. We then accessed FourSquare through its API to extract all of the relevant venues in each neighborhood.  We ranked the most popular venue types in each of our 3 target neighbhorhoods.  We also counted the total # of FourSquare venues in each neighbhorood. "
   ]
  },
  {
   "cell_type": "markdown",
   "metadata": {},
   "source": [
    "YELP DATA"
   ]
  },
  {
   "cell_type": "markdown",
   "metadata": {},
   "source": [
    "We supplemented the FourSquare data with yelp data.  Yelp offers a test database for developers but instead, we manually scraped Yelp for the top 500 restaurants in DC.  We didn't want our first foray into web scraping to end in a cease and decist order.  With text commands in MS excel, we were able to relatively easily extract each restaurant and its associated neighborhood, star ranking (1-5), # reviews, expense level (denoted by dollar signs), and descriptions.  "
   ]
  },
  {
   "cell_type": "markdown",
   "metadata": {},
   "source": [
    "We performed a number of analyses using the help data:"
   ]
  },
  {
   "cell_type": "markdown",
   "metadata": {},
   "source": [
    "1.  We looked at the total 3 of restaurants in all of DC and in each of our target neighborhoods.\n",
    "2.  We looked at the total # of restaurants in our target neighborhoods grouped by expense level and by star ranking\n",
    "3.  We plotted # restaurants in each nieghbhorhood cross tabulated with most of our restaurant metrics"
   ]
  },
  {
   "cell_type": "markdown",
   "metadata": {},
   "source": [
    "While not the explicit focus of our analysis, we looked at the help data more closely to understand if we could help our client influence yelp ranking to drive traffic to their new restaurant.  We performed a multiple linear regression on # reviews and star ranking to see if we could predict overall ranking (i.e. 1-500).  We also created a decision tree to understand what factors might lead to a good (4 or greater) overall star ranking."
   ]
  },
  {
   "cell_type": "markdown",
   "metadata": {},
   "source": [
    "### RESULTS"
   ]
  },
  {
   "cell_type": "markdown",
   "metadata": {},
   "source": [
    "The FourSquare data indicates that U Street has the largest number of venues of the three neighborhoods.  U Street's top 3 venue types are Bar, American Restaurant and Restaurant.  The 3 most common venue types in Columbia Heights are Bakery, Vietnamese Restaurant and Pizza Place.  \n",
    "\n",
    "The challenging aspect of the FourSquare data is that the categories aren't clean.  Five of the top ten venues in U Street have \"Restaurant\" in the category as compared to 6 for Logan Circle and 3 for Columbia Heights.  Columbia Heights it the only neighbhorhood that has venues that are not food and beverage related (e.g. pet store, park, music venue).  Supplementing the FourSquare data with Yelp will help us with our recommendation.  \n",
    "\n",
    "The Yelp data indicates that of the top 500 restaurants in DC, 25 are in Logan Circle, 19 are in the U Street Corridor, and 16 are in Columbia Heights.  \n",
    "\n",
    "Of the 19 restaurants in Columbia Heights, 6 are rated 4.5 or 5 stars compared to 1 4.5 star restaurant in Logan Circle and 3 4.5 star restaurants in U Street. \n",
    "\n",
    "According to Yelp, 2 of the restaurants in each of Columbia Heights and U Street have 3 dollar signs which is the price point at which our client will operate.  Logan Circle has 3 such restaurants.  \n",
    "\n",
    "We attempted to fit a multiple linear regression line to the number of reviews and the average star ranking to understand if these metrics were predictive.  We obtained a variance of .16, indicating that our regression wasn't very predictive.  \n",
    "\n",
    "We also created a decision tree to predict good or bad (i.e. star reviews 4 or greater) based on a number of factors including # reviews, fare type (e.g. American, Italian, Mexican) and others.  Our best accuracy was 68%.  "
   ]
  },
  {
   "cell_type": "markdown",
   "metadata": {},
   "source": [
    "### Discussion\n"
   ]
  },
  {
   "cell_type": "markdown",
   "metadata": {},
   "source": [
    "Broadly speaking, the FourSquare data suggests that U Street is the busiest location.  This is based on the shear # of venues.  Having spent time in Washington, DC, this isn't suprising as the area is known for it's nightlife.  \n",
    "\n",
    "The yelp data is based on the top 500 restaurants(according to help) in DC.  While it would appear that Logan Circle has the largest concetration of restaurants, we are ommitting potentially hundreds (thousands?) of other restaurants.  The data does suggest that Logan Circle has a larger proportion of top restaurants relative to U Street, although U Street may have \n",
    "\n",
    "While Columbia Heights has the smallest number of overall venues and overall top restaurants relative to U Street and Logan Circle, it appears to have the highest concentration of top rated restaurants on Yelp.  \n",
    "\n",
    "Based on this data, we would recommend Columbia Heights as the location to open a new restaurant:"
   ]
  },
  {
   "cell_type": "markdown",
   "metadata": {},
   "source": [
    "1. Columbia Heights has a good concentration of highly related restaurants\n",
    "2. It only has two 3 $$$ restaurants, the price point at which Ears Down Ox will operate\n",
    "3. It seems to be slightly less congested than U Street and Logan Circle, based on total # of restaurants and venues\n",
    "4. Logan Circle and U Street have a large concentration of 4 star (not 4.5 or 5) restaurants"
   ]
  },
  {
   "cell_type": "markdown",
   "metadata": {},
   "source": [
    "Our decision tree and multiple linear regression model didn't yield strong insights into how the yelp rankings are developed. Web research indicates that the algorithms are sophisticated and that certain users (power users) have a larger impact on overall ranking.  We would recommend a deeper dive into yelp rankings to our client.  "
   ]
  },
  {
   "cell_type": "markdown",
   "metadata": {},
   "source": [
    "### CONCLUSION"
   ]
  },
  {
   "cell_type": "markdown",
   "metadata": {},
   "source": [
    "We recommend that our client open their new restaurant in Columbia Heights.  We also recommend further investigation into yelp and other datasets to better understand how online rankings will influence traffic.  "
   ]
  },
  {
   "cell_type": "code",
   "execution_count": null,
   "metadata": {},
   "outputs": [],
   "source": []
  }
 ],
 "metadata": {
  "kernelspec": {
   "display_name": "Python 3",
   "language": "python",
   "name": "python3"
  },
  "language_info": {
   "codemirror_mode": {
    "name": "ipython",
    "version": 3
   },
   "file_extension": ".py",
   "mimetype": "text/x-python",
   "name": "python",
   "nbconvert_exporter": "python",
   "pygments_lexer": "ipython3",
   "version": "3.6.5"
  }
 },
 "nbformat": 4,
 "nbformat_minor": 2
}
