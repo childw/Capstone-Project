{
 "cells": [
  {
   "cell_type": "markdown",
   "metadata": {},
   "source": [
    "### OPPORTUNITY (PROBLEM)"
   ]
  },
  {
   "cell_type": "markdown",
   "metadata": {},
   "source": [
    "The owners of a Michelin rated restaurant – Ears Down Ox (fictitious) –  in Washington, DC are looking to open another restaurant in one of three neighborhoods in close proximity to their current facility:  Columbia Heights, Dupont Circle, and the U Street Corridor.   \n",
    "The fine-dining restaurant will only be open from 5PM-11PM Tuesday through Sunday and the menu will consist primarily of American Fare.  Restaurant revenue per seat will average 50 dollars placing the restaurant in the 3 dollar-sign ($$$) category on yelp.  \n",
    "\n",
    "The owners of Ears Down Rabbit have a preference for Columbia Heights, Dupont Circle, and the U Street Corridor in order to optimize for staffing and delivery logistics.  Sharing wait and kitchen staff across Ears Down Rabbit and the new restaurant is a top priority.  They would also like to use the same food supplier and work with similar delivery times at both facilities.  \n",
    "\n",
    "All three areas in Washington, DC have a robust and vibrant restaurant and nightlife scene and the owners are aware that they have to balance their efficiency needs with close proximity to the competition.  They have asked us to recommend where they should open their next restaurant: Columbia Heights, Dupont Circle, or the U Street Corridor. \n",
    "\n",
    "This analysis could easily be extended to other neighborhoods in Washington, DC or could be replicated for other new restaurants with different menus and strategies.  \n"
   ]
  },
  {
   "cell_type": "markdown",
   "metadata": {},
   "source": [
    "### DATA"
   ]
  },
  {
   "cell_type": "markdown",
   "metadata": {},
   "source": [
    "\n",
    "There will be two primary data sources for this analysis:  FourSquare Data and Yelp.  \n",
    "\n",
    "FourSquare will provide us with the landscape of venues (e.g. Restaurant, Park, etc.) in each neighborhood, allowing us to understand the look/feel of the neighborhood and how appropriate each neighborhood might be for the owner’s new restaurant.  The FourSquare data will be accessed through API.  \n",
    "\n",
    "The yelp dataset consists of the top 500 ranked restaurants in Washington, DC as of October 8, 2018.  This data was scraped from the web and resides in a csv file.  The dataset includes restaurant name, yelp rank (e.g. 1-100), yelp star ranking (e.g. 2 to 4 stars), number of yelp reviews, and a description of the fare.  The data includes neighborhoods beyond our 3 targets, in the event that we want to provide additional insight to our client.  "
   ]
  },
  {
   "cell_type": "code",
   "execution_count": null,
   "metadata": {},
   "outputs": [],
   "source": []
  }
 ],
 "metadata": {
  "kernelspec": {
   "display_name": "Python 3",
   "language": "python",
   "name": "python3"
  },
  "language_info": {
   "codemirror_mode": {
    "name": "ipython",
    "version": 3
   },
   "file_extension": ".py",
   "mimetype": "text/x-python",
   "name": "python",
   "nbconvert_exporter": "python",
   "pygments_lexer": "ipython3",
   "version": "3.6.5"
  }
 },
 "nbformat": 4,
 "nbformat_minor": 2
}
